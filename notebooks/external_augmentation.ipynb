{
 "cells": [
  {
   "cell_type": "code",
   "execution_count": 2,
   "outputs": [],
   "source": [
    "%reload_ext autoreload\n",
    "%autoreload 2\n",
    "%matplotlib inline"
   ],
   "metadata": {
    "collapsed": false,
    "pycharm": {
     "name": "#%%\n",
     "is_executing": false
    }
   }
  },
  {
   "cell_type": "markdown",
   "source": [
    "## Using transformation from external libraries inside `rising`\n",
    "Note: Some external augmentation libraries are only supported at the beginning of\n",
    "the transformation pipeline. Generally speaking, if you need to resort to an\n",
    "external library for augmentations, consider creating an issue in `rising` \n",
    "and there is a high chance we will add the transformation in the future :) "
   ],
   "metadata": {
    "collapsed": false,
    "pycharm": {
     "name": "#%% md\n"
    }
   }
  },
  {
   "cell_type": "code",
   "execution_count": 6,
   "outputs": [],
   "source": [
    "# lets prepare a basic dataset (e.g. one from `torchvision`)\n",
    "import os\n",
    "import torchvision\n",
    "from torchvision.transforms import ToTensor\n",
    "\n",
    "dataset = torchvision.datasets.MNIST(\n",
    "    os.getcwd(), train=True, download=True, transform=ToTensor())"
   ],
   "metadata": {
    "collapsed": false,
    "pycharm": {
     "name": "#%%\n",
     "is_executing": false
    }
   }
  },
  {
   "cell_type": "code",
   "execution_count": 19,
   "outputs": [
    {
     "name": "stdout",
     "text": [
      "torch.Size([1, 28, 28])\n"
     ],
     "output_type": "stream"
    },
    {
     "data": {
      "text/plain": "<Figure size 432x288 with 2 Axes>",
      "image/png": "[encoded data removed]"
     },
     "metadata": {
      "needs_background": "light"
     },
     "output_type": "display_data"
    }
   ],
   "source": [
    "# plot shape\n",
    "print(dataset[0][0].shape)\n",
    "# visualize a single image\n",
    "import matplotlib.pyplot as plt\n",
    "\n",
    "plt.imshow(dataset[0][0][0], cmap='gray')\n",
    "plt.colorbar()\n",
    "plt.show()"
   ],
   "metadata": {
    "collapsed": false,
    "pycharm": {
     "name": "#%%\n",
     "is_executing": false
    }
   }
  },
  {
   "cell_type": "code",
   "execution_count": null,
   "outputs": [],
   "source": [
    "# helper function to visualize batches of images\n",
    "import torch\n",
    "\n",
    "def show_batch(batch: torch.Tensor):\n",
    "    grid = torchvision.utils.make_grid(batch)\n",
    "    plt.imshow(grid[0][0], cmap='gray')\n",
    "    plt.colorbar()\n",
    "    plt.show()"
   ],
   "metadata": {
    "collapsed": false,
    "pycharm": {
     "name": "#%%\n"
    }
   }
  },
  {
   "cell_type": "markdown",
   "source": [
    "### Integration of `Batchgenerator` transformations into the augmentation pipeline.\n",
    "Note: when batchgenerator transformations are integrated, gradients can not be propagated through\n",
    "the transformation pipeline.\n",
    "\n",
    "`Batchgenerator` transformations are based on numpy to be framework agnostic. They are also based\n",
    "on dictionaries which are modified through the transformations.\n",
    "\n",
    "There are two steps which need to be integrated into your pipelin in order to the \n",
    "`Batchgenerator` transforms\n",
    "\n",
    "1. Exchange the `default_collate` function inside the dataloder with `numpy_collate`\n",
    "2. When switching from `Batchgenerators` transformations to `rising` transformations, insdert `ToTensor` transformation"
   ],
   "metadata": {
    "collapsed": false,
    "pycharm": {
     "name": "#%% md\n"
    }
   }
  },
  {
   "cell_type": "code",
   "execution_count": null,
   "outputs": [],
   "source": [],
   "metadata": {
    "collapsed": false,
    "pycharm": {
     "name": "#%%\n"
    }
   }
  },
  {
   "cell_type": "markdown",
   "source": [
    "### More libraries will be added in the future :) \n"
   ],
   "metadata": {
    "collapsed": false,
    "pycharm": {
     "name": "#%% md\n"
    }
   }
  }
 ],
 "metadata": {
  "kernelspec": {
   "display_name": "Python 3",
   "language": "python",
   "name": "python3"
  },
  "language_info": {
   "codemirror_mode": {
    "name": "ipython",
    "version": 2
   },
   "file_extension": ".py",
   "mimetype": "text/x-python",
   "name": "python",
   "nbconvert_exporter": "python",
   "pygments_lexer": "ipython2",
   "version": "2.7.6"
  },
  "pycharm": {
   "stem_cell": {
    "cell_type": "raw",
    "source": [],
    "metadata": {
     "collapsed": false
    }
   }
  }
 },
 "nbformat": 4,
 "nbformat_minor": 0
}