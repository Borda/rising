{
 "cells": [
  {
   "cell_type": "code",
   "execution_count": 1,
   "metadata": {
    "collapsed": false,
    "jupyter": {
     "outputs_hidden": false
    },
    "pycharm": {
     "is_executing": false,
     "name": "#%%\n"
    }
   },
   "outputs": [],
   "source": [
    "%reload_ext autoreload\n",
    "%autoreload 2\n",
    "%matplotlib inline"
   ]
  },
  {
   "cell_type": "markdown",
   "metadata": {
    "pycharm": {
     "name": "#%% md\n"
    }
   },
   "source": [
    "## Using transformation from external libraries inside `rising`\n",
    "> Note: Some external augmentation libraries are only supported at the beginning of\n",
    "the transformation pipeline. Generally speaking, if you need to resort to an\n",
    "external library for augmentations, consider creating an issue in `rising` \n",
    "and there is a high chance we will add the transformation in the future :) "
   ]
  },
  {
   "cell_type": "code",
   "execution_count": 2,
   "metadata": {
    "collapsed": false,
    "jupyter": {
     "outputs_hidden": false
    },
    "pycharm": {
     "is_executing": false,
     "name": "#%%\n"
    }
   },
   "outputs": [],
   "source": [
    "# lets prepare a basic dataset (e.g. one from `torchvision`)\n",
    "import os\n",
    "import torchvision\n",
    "import numpy as np\n",
    "import torch\n",
    "\n",
    "def to_array(inp):\n",
    "    \"\"\"\n",
    "    We need a small helper in this example because torchvision datasets output PIL\n",
    "    images. When using them in combination with `rising`,\n",
    "    just add `torchvision.transforms.ToTensor()`to the transform of the dataset\n",
    "    \n",
    "    Returns\n",
    "    -------\n",
    "    numpy.ndarray\n",
    "        converted data\n",
    "    \"\"\"\n",
    "    from PIL import Image\n",
    "    if isinstance(inp, Image.Image):\n",
    "        return np.array(inp, np.float32, copy=False)[None]\n",
    "    elif isinstance(inp, torch.Tensor):\n",
    "        return inp.detach().cpu().numpy()\n",
    "    else:\n",
    "        return inp\n",
    "\n",
    "dataset = torchvision.datasets.MNIST(\n",
    "    os.getcwd(), train=True, download=True, transform=to_array)"
   ]
  },
  {
   "cell_type": "code",
   "execution_count": 3,
   "metadata": {
    "collapsed": false,
    "jupyter": {
     "outputs_hidden": false
    },
    "pycharm": {
     "is_executing": false,
     "name": "#%%\n"
    }
   },
   "outputs": [
    {
     "name": "stdout",
     "output_type": "stream",
     "text": [
      "(1, 28, 28)\n"
     ]
    },
    {
     "data": {
      "image/png": "[encoded data removed]",
      "text/plain": [
       "<Figure size 432x288 with 2 Axes>"
      ]
     },
     "metadata": {
      "needs_background": "light"
     },
     "output_type": "display_data"
    }
   ],
   "source": [
    "#  plot shape\n",
    "print(dataset[0][0].shape)\n",
    "# visualize a single image\n",
    "import matplotlib.pyplot as plt\n",
    "\n",
    "plt.imshow(dataset[0][0][0], cmap='gray')\n",
    "plt.colorbar()\n",
    "plt.show()"
   ]
  },
  {
   "cell_type": "code",
   "execution_count": 4,
   "metadata": {
    "collapsed": false,
    "jupyter": {
     "outputs_hidden": false
    },
    "pycharm": {
     "is_executing": false,
     "name": "#%%\n"
    }
   },
   "outputs": [],
   "source": [
    "# helper function to visualize batches of images\n",
    "import torch\n",
    "\n",
    "def show_batch(batch: torch.Tensor):\n",
    "    grid = torchvision.utils.make_grid(batch)\n",
    "    plt.imshow(grid[0], cmap='gray')\n",
    "    # plt.colorbar()\n",
    "    plt.show()"
   ]
  },
  {
   "cell_type": "markdown",
   "metadata": {
    "pycharm": {
     "name": "#%% md\n"
    }
   },
   "source": [
    "### Integration of `batchgenerators` transformations into the augmentation pipeline.\n",
    "Note: when batchgenerator transformations are integrated, gradients can not be propagated through\n",
    "the transformation pipeline.\n",
    "\n",
    "`batchgenerators` transformations are based on numpy to be framework agnostic. They are also based\n",
    "on dictionaries which are modified through the transformations.\n",
    "\n",
    "There are two steps which need to be integrated into your pipelin in order to the \n",
    "`batchgenerators` transforms\n",
    "\n",
    "1. Exchange the `default_collate` function inside the dataloder with `numpy_collate`\n",
    "2. When switching from `batchgenerators` transformations to `rising` transformations, insdert `ToTensor` transformation"
   ]
  },
  {
   "cell_type": "code",
   "execution_count": 34,
   "metadata": {
    "collapsed": false,
    "jupyter": {
     "outputs_hidden": false
    },
    "pycharm": {
     "is_executing": false,
     "name": "#%%\n"
    }
   },
   "outputs": [],
   "source": [
    "# setup transforms\n",
    "from rising.transforms import *\n",
    "from rising.random import UniformParameter\n",
    "from batchgenerators.transforms import ZeroMeanUnitVarianceTransform\n",
    "\n",
    "transforms = []\n",
    "# convert tuple into dict\n",
    "transforms.append(SeqToMap(\"data\", \"label\"))\n",
    "# batchgenerators transforms\n",
    "transforms.append(ZeroMeanUnitVarianceTransform())\n",
    "# convert to tensor\n",
    "transforms.append(ToTensor())\n",
    "# rising transforms\n",
    "transforms.append(Rot90((0, 1)))\n",
    "transforms.append(Mirror(dims=(0, 1)))\n",
    "transforms.append(Rotate([UniformParameter(0, 180)], adjust_size=True, degree=True))\n",
    "# transforms.append(Resize([UniformParameter(0.8, 1.2)]))"
   ]
  },
  {
   "cell_type": "code",
   "execution_count": 35,
   "metadata": {
    "collapsed": false,
    "jupyter": {
     "outputs_hidden": false
    },
    "pycharm": {
     "is_executing": false,
     "name": "#%%\n"
    }
   },
   "outputs": [],
   "source": [
    "from rising.loading import DataLoader, default_transform_call, numpy_collate\n",
    "from rising.transforms import Compose\n",
    "\n",
    "composed = Compose(transforms, transform_call=default_transform_call)\n",
    "dataloader = DataLoader(dataset, batch_size=8, batch_transforms=composed,\n",
    "                        num_workers=0, collate_fn=numpy_collate)"
   ]
  },
  {
   "cell_type": "code",
   "execution_count": 36,
   "metadata": {
    "collapsed": false,
    "jupyter": {
     "outputs_hidden": false
    },
    "pycharm": {
     "is_executing": false,
     "name": "#%%\n"
    }
   },
   "outputs": [
    {
     "data": {
      "image/png": "[encoded data removed]",
      "text/plain": [
       "<Figure size 432x288 with 1 Axes>"
      ]
     },
     "metadata": {
      "needs_background": "light"
     },
     "output_type": "display_data"
    }
   ],
   "source": [
    "_iter = iter(dataloader)\n",
    "batch = next(_iter)\n",
    "show_batch(batch[\"data\"])"
   ]
  },
  {
   "cell_type": "markdown",
   "metadata": {
    "pycharm": {
     "name": "#%% md\n"
    }
   },
   "source": [
    "### More libraries will be added in the future :) \n"
   ]
  }
 ],
 "metadata": {
  "kernelspec": {
   "display_name": "Python 3",
   "language": "python",
   "name": "python3"
  },
  "language_info": {
   "codemirror_mode": {
    "name": "ipython",
    "version": 3
   },
   "file_extension": ".py",
   "mimetype": "text/x-python",
   "name": "python",
   "nbconvert_exporter": "python",
   "pygments_lexer": "ipython3",
   "version": "3.7.5"
  },
  "pycharm": {
   "stem_cell": {
    "cell_type": "raw",
    "metadata": {
     "collapsed": false
    },
    "source": []
   }
  }
 },
 "nbformat": 4,
 "nbformat_minor": 4
}
