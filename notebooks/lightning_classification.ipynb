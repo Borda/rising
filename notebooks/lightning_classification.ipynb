{
 "cells": [
  {
   "cell_type": "code",
   "execution_count": 3,
   "metadata": {},
   "outputs": [
    {
     "output_type": "stream",
     "name": "stdout",
     "text": "Downloading Data\nExtracting Data\nSuccess!\n"
    }
   ],
   "source": [
    "import requests\n",
    "import tempfile\n",
    "import tarfile\n",
    "def download_file_from_google_drive(id, destination):\n",
    "    URL = \"https://docs.google.com/uc?export=download\"\n",
    "\n",
    "    session = requests.Session()\n",
    "\n",
    "    response = session.get(URL, params = { 'id' : id }, stream = True)\n",
    "    token = get_confirm_token(response)\n",
    "\n",
    "    if token:\n",
    "        params = { 'id' : id, 'confirm' : token }\n",
    "        response = session.get(URL, params = params, stream = True)\n",
    "\n",
    "    save_response_content(response, destination)    \n",
    "\n",
    "def get_confirm_token(response):\n",
    "    for key, value in response.cookies.items():\n",
    "        if key.startswith('download_warning'):\n",
    "            return value\n",
    "\n",
    "    return None\n",
    "\n",
    "def save_response_content(response, destination):\n",
    "    CHUNK_SIZE = 32768\n",
    "\n",
    "    with open(destination, \"wb\") as f:\n",
    "        for chunk in response.iter_content(CHUNK_SIZE):\n",
    "            if chunk: # filter out keep-alive new chunks\n",
    "                f.write(chunk)\n",
    "\n",
    "temp_dir = tempfile.mkdtemp()\n",
    "data_dir = os.path.join(temp_dir, 'Task_04_Hippocampus')\n",
    "\n",
    "if not os.path.exists(data_dir):\n",
    "    tar_path = os.path.join(temp_dir, 'data.tar')\n",
    "    if not os.path.exists(tar_path):\n",
    "        print('Downloading Data')\n",
    "        download_file_from_google_drive('1RzPB1_bqzQhlWvU-YGvZzhx2omcDh38C', \n",
    "                                        os.path.join(temp_dir, 'test.tar'))\n",
    "    print('Extracting Data')\n",
    "    tarfile.TarFile(os.path.join(temp_dir, 'test.tar')).extractall(temp_dir)\n",
    "    print('Success!')\n",
    "data_dir = os.path.join(temp_dir, 'Task04_Hippocampus')"
   ]
  },
  {
   "cell_type": "code",
   "execution_count": 12,
   "metadata": {},
   "outputs": [
    {
     "output_type": "stream",
     "name": "stdout",
     "text": "/var/folders/3h/nw_brd4n0hs9y_wv_frs8kww0000gn/T/tmpeu8f2wxn\n"
    }
   ],
   "source": [
    "print(temp_dir)\n",
    "data_dir = os.path.join(temp_dir, 'Task04_Hippocampus')"
   ]
  },
  {
   "cell_type": "code",
   "execution_count": 14,
   "metadata": {
    "tags": [
     "outputPrepend"
    ]
   },
   "outputs": [
    {
     "output_type": "stream",
     "name": "stdout",
     "text": "sTr/hippocampus_234.nii.gz'}, {'image': './imagesTr/hippocampus_257.nii.gz', 'label': './labelsTr/hippocampus_257.nii.gz'}, {'image': './imagesTr/hippocampus_302.nii.gz', 'label': './labelsTr/hippocampus_302.nii.gz'}, {'image': './imagesTr/hippocampus_361.nii.gz', 'label': './labelsTr/hippocampus_361.nii.gz'}, {'image': './imagesTr/hippocampus_261.nii.gz', 'label': './labelsTr/hippocampus_261.nii.gz'}, {'image': './imagesTr/hippocampus_210.nii.gz', 'label': './labelsTr/hippocampus_210.nii.gz'}, {'image': './imagesTr/hippocampus_310.nii.gz', 'label': './labelsTr/hippocampus_310.nii.gz'}, {'image': './imagesTr/hippocampus_373.nii.gz', 'label': './labelsTr/hippocampus_373.nii.gz'}, {'image': './imagesTr/hippocampus_355.nii.gz', 'label': './labelsTr/hippocampus_355.nii.gz'}, {'image': './imagesTr/hippocampus_328.nii.gz', 'label': './labelsTr/hippocampus_328.nii.gz'}, {'image': './imagesTr/hippocampus_228.nii.gz', 'label': './labelsTr/hippocampus_228.nii.gz'}, {'image': './imagesTr/hippocampus_181.nii.gz', 'label': './labelsTr/hippocampus_181.nii.gz'}, {'image': './imagesTr/hippocampus_336.nii.gz', 'label': './labelsTr/hippocampus_336.nii.gz'}, {'image': './imagesTr/hippocampus_236.nii.gz', 'label': './labelsTr/hippocampus_236.nii.gz'}, {'image': './imagesTr/hippocampus_259.nii.gz', 'label': './labelsTr/hippocampus_259.nii.gz'}, {'image': './imagesTr/hippocampus_359.nii.gz', 'label': './labelsTr/hippocampus_359.nii.gz'}, {'image': './imagesTr/hippocampus_224.nii.gz', 'label': './labelsTr/hippocampus_224.nii.gz'}, {'image': './imagesTr/hippocampus_093.nii.gz', 'label': './labelsTr/hippocampus_093.nii.gz'}, {'image': './imagesTr/hippocampus_193.nii.gz', 'label': './labelsTr/hippocampus_193.nii.gz'}, {'image': './imagesTr/hippocampus_212.nii.gz', 'label': './labelsTr/hippocampus_212.nii.gz'}, {'image': './imagesTr/hippocampus_363.nii.gz', 'label': './labelsTr/hippocampus_363.nii.gz'}, {'image': './imagesTr/hippocampus_263.nii.gz', 'label': './labelsTr/hippocampus_263.nii.gz'}, {'image': './imagesTr/hippocampus_300.nii.gz', 'label': './labelsTr/hippocampus_300.nii.gz'}, {'image': './imagesTr/hippocampus_160.nii.gz', 'label': './labelsTr/hippocampus_160.nii.gz'}, {'image': './imagesTr/hippocampus_060.nii.gz', 'label': './labelsTr/hippocampus_060.nii.gz'}, {'image': './imagesTr/hippocampus_003.nii.gz', 'label': './labelsTr/hippocampus_003.nii.gz'}, {'image': './imagesTr/hippocampus_172.nii.gz', 'label': './labelsTr/hippocampus_172.nii.gz'}, {'image': './imagesTr/hippocampus_011.nii.gz', 'label': './labelsTr/hippocampus_011.nii.gz'}, {'image': './imagesTr/hippocampus_044.nii.gz', 'label': './labelsTr/hippocampus_044.nii.gz'}, {'image': './imagesTr/hippocampus_144.nii.gz', 'label': './labelsTr/hippocampus_144.nii.gz'}, {'image': './imagesTr/hippocampus_039.nii.gz', 'label': './labelsTr/hippocampus_039.nii.gz'}, {'image': './imagesTr/hippocampus_290.nii.gz', 'label': './labelsTr/hippocampus_290.nii.gz'}, {'image': './imagesTr/hippocampus_390.nii.gz', 'label': './labelsTr/hippocampus_390.nii.gz'}, {'image': './imagesTr/hippocampus_127.nii.gz', 'label': './labelsTr/hippocampus_127.nii.gz'}, {'image': './imagesTr/hippocampus_156.nii.gz', 'label': './labelsTr/hippocampus_156.nii.gz'}, {'image': './imagesTr/hippocampus_056.nii.gz', 'label': './labelsTr/hippocampus_056.nii.gz'}, {'image': './imagesTr/hippocampus_148.nii.gz', 'label': './labelsTr/hippocampus_148.nii.gz'}, {'image': './imagesTr/hippocampus_048.nii.gz', 'label': './labelsTr/hippocampus_048.nii.gz'}, {'image': './imagesTr/hippocampus_135.nii.gz', 'label': './labelsTr/hippocampus_135.nii.gz'}, {'image': './imagesTr/hippocampus_035.nii.gz', 'label': './labelsTr/hippocampus_035.nii.gz'}, {'image': './imagesTr/hippocampus_282.nii.gz', 'label': './labelsTr/hippocampus_282.nii.gz'}, {'image': './imagesTr/hippocampus_169.nii.gz', 'label': './labelsTr/hippocampus_169.nii.gz'}, {'image': './imagesTr/hippocampus_114.nii.gz', 'label': './labelsTr/hippocampus_114.nii.gz'}, {'image': './imagesTr/hippocampus_014.nii.gz', 'label': './labelsTr/hippocampus_014.nii.gz'}, {'image': './imagesTr/hippocampus_177.nii.gz', 'label': './labelsTr/hippocampus_177.nii.gz'}, {'image': './imagesTr/hippocampus_077.nii.gz', 'label': './labelsTr/hippocampus_077.nii.gz'}, {'image': './imagesTr/hippocampus_006.nii.gz', 'label': './labelsTr/hippocampus_006.nii.gz'}, {'image': './imagesTr/hippocampus_106.nii.gz', 'label': './labelsTr/hippocampus_106.nii.gz'}, {'image': './imagesTr/hippocampus_065.nii.gz', 'label': './labelsTr/hippocampus_065.nii.gz'}, {'image': './imagesTr/hippocampus_165.nii.gz', 'label': './labelsTr/hippocampus_165.nii.gz'}, {'image': './imagesTr/hippocampus_287.nii.gz', 'label': './labelsTr/hippocampus_287.nii.gz'}, {'image': './imagesTr/hippocampus_130.nii.gz', 'label': './labelsTr/hippocampus_130.nii.gz'}, {'image': './imagesTr/hippocampus_387.nii.gz', 'label': './labelsTr/hippocampus_387.nii.gz'}, {'image': './imagesTr/hippocampus_053.nii.gz', 'label': './labelsTr/hippocampus_053.nii.gz'}, {'image': './imagesTr/hippocampus_299.nii.gz', 'label': './labelsTr/hippocampus_299.nii.gz'}, {'image': './imagesTr/hippocampus_295.nii.gz', 'label': './labelsTr/hippocampus_295.nii.gz'}, {'image': './imagesTr/hippocampus_141.nii.gz', 'label': './labelsTr/hippocampus_141.nii.gz'}, {'image': './imagesTr/hippocampus_041.nii.gz', 'label': './labelsTr/hippocampus_041.nii.gz'}, {'image': './imagesTr/hippocampus_321.nii.gz', 'label': './labelsTr/hippocampus_321.nii.gz'}, {'image': './imagesTr/hippocampus_221.nii.gz', 'label': './labelsTr/hippocampus_221.nii.gz'}, {'image': './imagesTr/hippocampus_096.nii.gz', 'label': './labelsTr/hippocampus_096.nii.gz'}, {'image': './imagesTr/hippocampus_242.nii.gz', 'label': './labelsTr/hippocampus_242.nii.gz'}, {'image': './imagesTr/hippocampus_188.nii.gz', 'label': './labelsTr/hippocampus_188.nii.gz'}, {'image': './imagesTr/hippocampus_088.nii.gz', 'label': './labelsTr/hippocampus_088.nii.gz'}, {'image': './imagesTr/hippocampus_084.nii.gz', 'label': './labelsTr/hippocampus_084.nii.gz'}, {'image': './imagesTr/hippocampus_233.nii.gz', 'label': './labelsTr/hippocampus_233.nii.gz'}, {'image': './imagesTr/hippocampus_184.nii.gz', 'label': './labelsTr/hippocampus_184.nii.gz'}, {'image': './imagesTr/hippocampus_333.nii.gz', 'label': './labelsTr/hippocampus_333.nii.gz'}, {'image': './imagesTr/hippocampus_250.nii.gz', 'label': './labelsTr/hippocampus_250.nii.gz'}, {'image': './imagesTr/hippocampus_350.nii.gz', 'label': './labelsTr/hippocampus_350.nii.gz'}, {'image': './imagesTr/hippocampus_378.nii.gz', 'label': './labelsTr/hippocampus_378.nii.gz'}, {'image': './imagesTr/hippocampus_205.nii.gz', 'label': './labelsTr/hippocampus_205.nii.gz'}, {'image': './imagesTr/hippocampus_305.nii.gz', 'label': './labelsTr/hippocampus_305.nii.gz'}, {'image': './imagesTr/hippocampus_366.nii.gz', 'label': './labelsTr/hippocampus_366.nii.gz'}, {'image': './imagesTr/hippocampus_317.nii.gz', 'label': './labelsTr/hippocampus_317.nii.gz'}, {'image': './imagesTr/hippocampus_217.nii.gz', 'label': './labelsTr/hippocampus_217.nii.gz'}, {'image': './imagesTr/hippocampus_374.nii.gz', 'label': './labelsTr/hippocampus_374.nii.gz'}, {'image': './imagesTr/hippocampus_274.nii.gz', 'label': './labelsTr/hippocampus_274.nii.gz'}, {'image': './imagesTr/hippocampus_309.nii.gz', 'label': './labelsTr/hippocampus_309.nii.gz'}, {'image': './imagesTr/hippocampus_252.nii.gz', 'label': './labelsTr/hippocampus_252.nii.gz'}, {'image': './imagesTr/hippocampus_352.nii.gz', 'label': './labelsTr/hippocampus_352.nii.gz'}, {'image': './imagesTr/hippocampus_098.nii.gz', 'label': './labelsTr/hippocampus_098.nii.gz'}, {'image': './imagesTr/hippocampus_231.nii.gz', 'label': './labelsTr/hippocampus_231.nii.gz'}, {'image': './imagesTr/hippocampus_331.nii.gz', 'label': './labelsTr/hippocampus_331.nii.gz'}, {'image': './imagesTr/hippocampus_340.nii.gz', 'label': './labelsTr/hippocampus_340.nii.gz'}, {'image': './imagesTr/hippocampus_194.nii.gz', 'label': './labelsTr/hippocampus_194.nii.gz'}, {'image': './imagesTr/hippocampus_223.nii.gz', 'label': './labelsTr/hippocampus_223.nii.gz'}, {'image': './imagesTr/hippocampus_094.nii.gz', 'label': './labelsTr/hippocampus_094.nii.gz'}, {'image': './imagesTr/hippocampus_376.nii.gz', 'label': './labelsTr/hippocampus_376.nii.gz'}, {'image': './imagesTr/hippocampus_276.nii.gz', 'label': './labelsTr/hippocampus_276.nii.gz'}, {'image': './imagesTr/hippocampus_368.nii.gz', 'label': './labelsTr/hippocampus_368.nii.gz'}, {'image': './imagesTr/hippocampus_268.nii.gz', 'label': './labelsTr/hippocampus_268.nii.gz'}, {'image': './imagesTr/hippocampus_215.nii.gz', 'label': './labelsTr/hippocampus_215.nii.gz'}, {'image': './imagesTr/hippocampus_264.nii.gz', 'label': './labelsTr/hippocampus_264.nii.gz'}, {'image': './imagesTr/hippocampus_219.nii.gz', 'label': './labelsTr/hippocampus_219.nii.gz'}, {'image': './imagesTr/hippocampus_319.nii.gz', 'label': './labelsTr/hippocampus_319.nii.gz'}, {'image': './imagesTr/hippocampus_207.nii.gz', 'label': './labelsTr/hippocampus_207.nii.gz'}, {'image': './imagesTr/hippocampus_067.nii.gz', 'label': './labelsTr/hippocampus_067.nii.gz'}, {'image': './imagesTr/hippocampus_004.nii.gz', 'label': './labelsTr/hippocampus_004.nii.gz'}, {'image': './imagesTr/hippocampus_104.nii.gz', 'label': './labelsTr/hippocampus_104.nii.gz'}, {'image': './imagesTr/hippocampus_175.nii.gz', 'label': './labelsTr/hippocampus_175.nii.gz'}, {'image': './imagesTr/hippocampus_075.nii.gz', 'label': './labelsTr/hippocampus_075.nii.gz'}, {'image': './imagesTr/hippocampus_108.nii.gz', 'label': './labelsTr/hippocampus_108.nii.gz'}, {'image': './imagesTr/hippocampus_008.nii.gz', 'label': './labelsTr/hippocampus_008.nii.gz'}, {'image': './imagesTr/hippocampus_143.nii.gz', 'label': './labelsTr/hippocampus_143.nii.gz'}, {'image': './imagesTr/hippocampus_389.nii.gz', 'label': './labelsTr/hippocampus_389.nii.gz'}, {'image': './imagesTr/hippocampus_289.nii.gz', 'label': './labelsTr/hippocampus_289.nii.gz'}, {'image': './imagesTr/hippocampus_297.nii.gz', 'label': './labelsTr/hippocampus_297.nii.gz'}, {'image': './imagesTr/hippocampus_020.nii.gz', 'label': './labelsTr/hippocampus_020.nii.gz'}, {'image': './imagesTr/hippocampus_051.nii.gz', 'label': './labelsTr/hippocampus_051.nii.gz'}, {'image': './imagesTr/hippocampus_132.nii.gz', 'label': './labelsTr/hippocampus_132.nii.gz'}, {'image': './imagesTr/hippocampus_385.nii.gz', 'label': './labelsTr/hippocampus_385.nii.gz'}, {'image': './imagesTr/hippocampus_260.nii.gz', 'label': './labelsTr/hippocampus_260.nii.gz'}, {'image': './imagesTr/hippocampus_360.nii.gz', 'label': './labelsTr/hippocampus_360.nii.gz'}, {'image': './imagesTr/hippocampus_203.nii.gz', 'label': './labelsTr/hippocampus_203.nii.gz'}, {'image': './imagesTr/hippocampus_303.nii.gz', 'label': './labelsTr/hippocampus_303.nii.gz'}, {'image': './imagesTr/hippocampus_372.nii.gz', 'label': './labelsTr/hippocampus_372.nii.gz'}, {'image': './imagesTr/hippocampus_311.nii.gz', 'label': './labelsTr/hippocampus_311.nii.gz'}, {'image': './imagesTr/hippocampus_244.nii.gz', 'label': './labelsTr/hippocampus_244.nii.gz'}, {'image': './imagesTr/hippocampus_327.nii.gz', 'label': './labelsTr/hippocampus_327.nii.gz'}, {'image': './imagesTr/hippocampus_190.nii.gz', 'label': './labelsTr/hippocampus_190.nii.gz'}, {'image': './imagesTr/hippocampus_227.nii.gz', 'label': './labelsTr/hippocampus_227.nii.gz'}, {'image': './imagesTr/hippocampus_090.nii.gz', 'label': './labelsTr/hippocampus_090.nii.gz'}, {'image': './imagesTr/hippocampus_356.nii.gz', 'label': './labelsTr/hippocampus_356.nii.gz'}, {'image': './imagesTr/hippocampus_235.nii.gz', 'label': './labelsTr/hippocampus_235.nii.gz'}, {'image': './imagesTr/hippocampus_335.nii.gz', 'label': './labelsTr/hippocampus_335.nii.gz'}, {'image': './imagesTr/hippocampus_248.nii.gz', 'label': './labelsTr/hippocampus_248.nii.gz'}, {'image': './imagesTr/hippocampus_155.nii.gz', 'label': './labelsTr/hippocampus_155.nii.gz'}, {'image': './imagesTr/hippocampus_036.nii.gz', 'label': './labelsTr/hippocampus_036.nii.gz'}, {'image': './imagesTr/hippocampus_136.nii.gz', 'label': './labelsTr/hippocampus_136.nii.gz'}, {'image': './imagesTr/hippocampus_381.nii.gz', 'label': './labelsTr/hippocampus_381.nii.gz'}, {'image': './imagesTr/hippocampus_393.nii.gz', 'label': './labelsTr/hippocampus_393.nii.gz'}, {'image': './imagesTr/hippocampus_124.nii.gz', 'label': './labelsTr/hippocampus_124.nii.gz'}, {'image': './imagesTr/hippocampus_024.nii.gz', 'label': './labelsTr/hippocampus_024.nii.gz'}, {'image': './imagesTr/hippocampus_171.nii.gz', 'label': './labelsTr/hippocampus_171.nii.gz'}, {'image': './imagesTr/hippocampus_163.nii.gz', 'label': './labelsTr/hippocampus_163.nii.gz'}, {'image': './imagesTr/hippocampus_126.nii.gz', 'label': './labelsTr/hippocampus_126.nii.gz'}, {'image': './imagesTr/hippocampus_026.nii.gz', 'label': './labelsTr/hippocampus_026.nii.gz'}, {'image': './imagesTr/hippocampus_138.nii.gz', 'label': './labelsTr/hippocampus_138.nii.gz'}, {'image': './imagesTr/hippocampus_038.nii.gz', 'label': './labelsTr/hippocampus_038.nii.gz'}, {'image': './imagesTr/hippocampus_145.nii.gz', 'label': './labelsTr/hippocampus_145.nii.gz'}, {'image': './imagesTr/hippocampus_045.nii.gz', 'label': './labelsTr/hippocampus_045.nii.gz'}, {'image': './imagesTr/hippocampus_034.nii.gz', 'label': './labelsTr/hippocampus_034.nii.gz'}, {'image': './imagesTr/hippocampus_383.nii.gz', 'label': './labelsTr/hippocampus_383.nii.gz'}, {'image': './imagesTr/hippocampus_049.nii.gz', 'label': './labelsTr/hippocampus_049.nii.gz'}, {'image': './imagesTr/hippocampus_149.nii.gz', 'label': './labelsTr/hippocampus_149.nii.gz'}, {'image': './imagesTr/hippocampus_057.nii.gz', 'label': './labelsTr/hippocampus_057.nii.gz'}, {'image': './imagesTr/hippocampus_157.nii.gz', 'label': './labelsTr/hippocampus_157.nii.gz'}, {'image': './imagesTr/hippocampus_102.nii.gz', 'label': './labelsTr/hippocampus_102.nii.gz'}, {'image': './imagesTr/hippocampus_161.nii.gz', 'label': './labelsTr/hippocampus_161.nii.gz'}, {'image': './imagesTr/hippocampus_173.nii.gz', 'label': './labelsTr/hippocampus_173.nii.gz'}, {'image': './imagesTr/hippocampus_370.nii.gz', 'label': './labelsTr/hippocampus_370.nii.gz'}, {'image': './imagesTr/hippocampus_301.nii.gz', 'label': './labelsTr/hippocampus_301.nii.gz'}, {'image': './imagesTr/hippocampus_180.nii.gz', 'label': './labelsTr/hippocampus_180.nii.gz'}, {'image': './imagesTr/hippocampus_337.nii.gz', 'label': './labelsTr/hippocampus_337.nii.gz'}, {'image': './imagesTr/hippocampus_229.nii.gz', 'label': './labelsTr/hippocampus_229.nii.gz'}, {'image': './imagesTr/hippocampus_329.nii.gz', 'label': './labelsTr/hippocampus_329.nii.gz'}, {'image': './imagesTr/hippocampus_354.nii.gz', 'label': './labelsTr/hippocampus_354.nii.gz'}, {'image': './imagesTr/hippocampus_325.nii.gz', 'label': './labelsTr/hippocampus_325.nii.gz'}, {'image': './imagesTr/hippocampus_225.nii.gz', 'label': './labelsTr/hippocampus_225.nii.gz'}, {'image': './imagesTr/hippocampus_092.nii.gz', 'label': './labelsTr/hippocampus_092.nii.gz'}, {'image': './imagesTr/hippocampus_358.nii.gz', 'label': './labelsTr/hippocampus_358.nii.gz'}], 'test': ['./imagesTs/hippocampus_267.nii.gz', './imagesTs/hippocampus_379.nii.gz', './imagesTs/hippocampus_208.nii.gz', './imagesTs/hippocampus_275.nii.gz', './imagesTs/hippocampus_131.nii.gz', './imagesTs/hippocampus_140.nii.gz', './imagesTs/hippocampus_076.nii.gz', './imagesTs/hippocampus_115.nii.gz', './imagesTs/hippocampus_168.nii.gz', './imagesTs/hippocampus_119.nii.gz', './imagesTs/hippocampus_021.nii.gz', './imagesTs/hippocampus_121.nii.gz', './imagesTs/hippocampus_388.nii.gz', './imagesTs/hippocampus_384.nii.gz', './imagesTs/hippocampus_284.nii.gz', './imagesTs/hippocampus_005.nii.gz', './imagesTs/hippocampus_078.nii.gz', './imagesTs/hippocampus_066.nii.gz', './imagesTs/hippocampus_117.nii.gz', './imagesTs/hippocampus_009.nii.gz', './imagesTs/hippocampus_214.nii.gz', './imagesTs/hippocampus_369.nii.gz', './imagesTs/hippocampus_377.nii.gz', './imagesTs/hippocampus_306.nii.gz', './imagesTs/hippocampus_206.nii.gz', './imagesTs/hippocampus_218.nii.gz', './imagesTs/hippocampus_365.nii.gz', './imagesTs/hippocampus_187.nii.gz', './imagesTs/hippocampus_241.nii.gz', './imagesTs/hippocampus_013.nii.gz', './imagesTs/hippocampus_113.nii.gz', './imagesTs/hippocampus_062.nii.gz', './imagesTs/hippocampus_137.nii.gz', './imagesTs/hippocampus_054.nii.gz', './imagesTs/hippocampus_129.nii.gz', './imagesTs/hippocampus_029.nii.gz', './imagesTs/hippocampus_392.nii.gz', './imagesTs/hippocampus_191.nii.gz', './imagesTs/hippocampus_183.nii.gz', './imagesTs/hippocampus_357.nii.gz', './imagesTs/hippocampus_202.nii.gz', './imagesTs/hippocampus_273.nii.gz', './imagesTs/hippocampus_255.nii.gz', './imagesTs/hippocampus_081.nii.gz', './imagesTs/hippocampus_247.nii.gz', './imagesTs/hippocampus_347.nii.gz', './imagesTs/hippocampus_324.nii.gz', './imagesTs/hippocampus_271.nii.gz', './imagesTs/hippocampus_371.nii.gz', './imagesTs/hippocampus_312.nii.gz', './imagesTs/hippocampus_200.nii.gz', './imagesTs/hippocampus_103.nii.gz', './imagesTs/hippocampus_072.nii.gz', './imagesTs/hippocampus_111.nii.gz', './imagesTs/hippocampus_139.nii.gz', './imagesTs/hippocampus_027.nii.gz', './imagesTs/hippocampus_382.nii.gz', './imagesTs/hippocampus_069.nii.gz', './imagesTs/hippocampus_018.nii.gz', './imagesTs/hippocampus_118.nii.gz', './imagesTs/hippocampus_030.nii.gz', './imagesTs/hippocampus_153.nii.gz', './imagesTs/hippocampus_122.nii.gz', './imagesTs/hippocampus_022.nii.gz', './imagesTs/hippocampus_196.nii.gz', './imagesTs/hippocampus_342.nii.gz', './imagesTs/hippocampus_278.nii.gz', './imagesTs/hippocampus_266.nii.gz', './imagesTs/hippocampus_209.nii.gz', './imagesTs/hippocampus_198.nii.gz', './imagesTs/hippocampus_186.nii.gz', './imagesTs/hippocampus_240.nii.gz', './imagesTs/hippocampus_323.nii.gz', './imagesTs/hippocampus_315.nii.gz', './imagesTs/hippocampus_364.nii.gz', './imagesTs/hippocampus_307.nii.gz', './imagesTs/hippocampus_167.nii.gz', './imagesTs/hippocampus_079.nii.gz', './imagesTs/hippocampus_179.nii.gz', './imagesTs/hippocampus_116.nii.gz', './imagesTs/hippocampus_016.nii.gz', './imagesTs/hippocampus_043.nii.gz', './imagesTs/hippocampus_120.nii.gz', './imagesTs/hippocampus_151.nii.gz', './imagesTs/hippocampus_285.nii.gz', './imagesTs/hippocampus_272.nii.gz', './imagesTs/hippocampus_211.nii.gz', './imagesTs/hippocampus_339.nii.gz', './imagesTs/hippocampus_239.nii.gz', './imagesTs/hippocampus_344.nii.gz', './imagesTs/hippocampus_256.nii.gz', './imagesTs/hippocampus_082.nii.gz', './imagesTs/hippocampus_182.nii.gz', './imagesTs/hippocampus_348.nii.gz', './imagesTs/hippocampus_028.nii.gz', './imagesTs/hippocampus_128.nii.gz', './imagesTs/hippocampus_055.nii.gz', './imagesTs/hippocampus_281.nii.gz', './imagesTs/hippocampus_147.nii.gz', './imagesTs/hippocampus_047.nii.gz', './imagesTs/hippocampus_293.nii.gz', './imagesTs/hippocampus_159.nii.gz', './imagesTs/hippocampus_059.nii.gz', './imagesTs/hippocampus_071.nii.gz', './imagesTs/hippocampus_112.nii.gz', './imagesTs/hippocampus_012.nii.gz', './imagesTs/hippocampus_063.nii.gz', './imagesTs/hippocampus_100.nii.gz', './imagesTs/hippocampus_391.nii.gz', './imagesTs/hippocampus_291.nii.gz', './imagesTs/hippocampus_283.nii.gz', './imagesTs/hippocampus_134.nii.gz', './imagesTs/hippocampus_002.nii.gz', './imagesTs/hippocampus_061.nii.gz', './imagesTs/hippocampus_110.nii.gz', './imagesTs/hippocampus_010.nii.gz', './imagesTs/hippocampus_073.nii.gz', './imagesTs/hippocampus_313.nii.gz', './imagesTs/hippocampus_213.nii.gz', './imagesTs/hippocampus_270.nii.gz', './imagesTs/hippocampus_201.nii.gz', './imagesTs/hippocampus_262.nii.gz', './imagesTs/hippocampus_362.nii.gz', './imagesTs/hippocampus_080.nii.gz', './imagesTs/hippocampus_237.nii.gz', './imagesTs/hippocampus_254.nii.gz', './imagesTs/hippocampus_192.nii.gz', './imagesTs/hippocampus_258.nii.gz', './imagesTs/hippocampus_346.nii.gz', './imagesTs/hippocampus_246.nii.gz']}\n<class 'dict'>\n"
    }
   ],
   "source": [
    "import json\n",
    "with open(os.path.join(data_dir, 'dataset.json')) as f:\n",
    "    content = json.load(f)\n",
    "\n",
    "print(content)\n",
    "print(type(content))"
   ]
  },
  {
   "cell_type": "code",
   "execution_count": 18,
   "metadata": {
    "tags": [
     "outputPrepend"
    ]
   },
   "outputs": [
    {
     "output_type": "stream",
     "name": "stdout",
     "text": "<class 'list'>\n{'image': './imagesTr/hippocampus_367.nii.gz', 'label': './labelsTr/hippocampus_367.nii.gz'}\n"
    }
   ],
   "source": [
    "list(content.keys())\n",
    "print(type(content['training']))\n",
    "print(content['training'][0])\n",
    "#print(content['training'])"
   ]
  },
  {
   "cell_type": "code",
   "execution_count": 28,
   "metadata": {},
   "outputs": [],
   "source": [
    "import SimpleITK as sitk\n",
    "import json\n",
    "from rising import loading\n",
    "from rising.loading import Dataset\n",
    "import torch\n",
    "class NiiDataset(Dataset):\n",
    "    def __init__(self, train: bool, data_dir: str):\n",
    "        with open(os.path.join(data_dir, 'dataset.json')) as f:\n",
    "            content = json.load(f)\n",
    "            if train:\n",
    "                data = content['training']\n",
    "            else:\n",
    "                data = content['test']\n",
    "            \n",
    "            self.data = data\n",
    "            self.data_dir = data_dir\n",
    "\n",
    "    def __getitem__(self, item: int):\n",
    "        sample = self.data[item]\n",
    "        img = sitk.GetArrayFromImage(\n",
    "            sitk.ReadImage(os.path.join(self.data_dir, sample['image'])))\n",
    "\n",
    "        # add channel dim if necesary\n",
    "        if img.ndim == 3:\n",
    "            img = img[None]\n",
    "\n",
    "        label = sitk.GetArrayFromImage(\n",
    "            sitk.ReadImage(os.path.join(self.data_dir, sample['label'])))\n",
    "        \n",
    "        # remove channel dim if necessary\n",
    "        if label.ndim == 4:\n",
    "            label = label[0]\n",
    "        return {'data': torch.from_numpy(img), \n",
    "                'label': torch.from_numpy(label)}\n",
    "\n",
    "    def __len__(self):\n",
    "        return len(self.data)\n",
    "\n",
    "dataset = NiiDataset(True, data_dir)"
   ]
  },
  {
   "cell_type": "code",
   "execution_count": 33,
   "metadata": {},
   "outputs": [
    {
     "output_type": "stream",
     "name": "stderr",
     "text": "100%|██████████| 260/260 [00:01<00:00, 252.53it/s]\n"
    },
    {
     "output_type": "execute_result",
     "data": {
      "text/plain": "tensor([ 1.0000, 35.6538, 49.9808, 35.3769])"
     },
     "metadata": {},
     "execution_count": 33
    }
   ],
   "source": [
    "from tqdm import tqdm\n",
    "sizes_data, sizes_label = [], []\n",
    "for idx in tqdm(range(len(dataset))):\n",
    "    sample = dataset[idx]\n",
    "    sizes_data.append(torch.tensor(sample['data'].shape))\n",
    "    sizes_label.append(torch.tensor(sample['label'].shape))\n",
    "\n",
    "torch.stack(sizes_data).float().mean(0)\n",
    "\n",
    "# Resize with per sample trafo\n",
    "# apply augmentation per batch\n",
    "# Simple Unet Lightning\n",
    "# CrossEntropy + SoftDice\n"
   ]
  },
  {
   "cell_type": "code",
   "execution_count": null,
   "metadata": {},
   "outputs": [],
   "source": []
  }
 ],
 "metadata": {
  "language_info": {
   "codemirror_mode": {
    "name": "ipython",
    "version": 3
   },
   "file_extension": ".py",
   "mimetype": "text/x-python",
   "name": "python",
   "nbconvert_exporter": "python",
   "pygments_lexer": "ipython3",
   "version": "3.6.10-final"
  },
  "orig_nbformat": 2,
  "kernelspec": {
   "name": "python361064bitrisingconda39a2201ad26e4c96be348e851446357a",
   "display_name": "Python 3.6.10 64-bit ('rising': conda)"
  }
 },
 "nbformat": 4,
 "nbformat_minor": 2
}